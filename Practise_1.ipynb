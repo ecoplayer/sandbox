{
 "cells": [
  {
   "cell_type": "markdown",
   "id": "30283944",
   "metadata": {},
   "source": [
    "Para esta práctica tienes que utilizar los csv (sessions y ventas), que representan los resultados de un experimento en el que se pureban variantes de una landing page (variantes A y B).\n",
    "\n",
    "Acada variante de esta landing page llegan visitantes que realizan sesiones (identificadas con una session_id) y dejan sus datos de contacto si les interesa (lead).\n",
    "Algunos lead finalmente compran (campo compra).\n",
    "\n",
    "El objetivo de la práctia es responder a estas preguntas. \n",
    "1. ¿Qué variante tiene mayor conversión de sesión a lead? Acompáñalo de una visualización.\n",
    "2. ¿Qué variante tiene mayor conversión de lead a venta? Acompáñalo de una visualización.\n",
    "3. A raíz de los datos del experimento, explica en un párrafo una obseración adicional. Puedes acompñar la explicación de un cálculo, tabla o visualización."
   ]
  },
  {
   "cell_type": "code",
   "execution_count": 2,
   "id": "225456a1",
   "metadata": {},
   "outputs": [],
   "source": [
    "import pandas as pd\n",
    "import warnings\n",
    "warnings.filterwarnings(\"ignore\")\n",
    "import seaborn as sns\n",
    "import matplotlib.pyplot as plt"
   ]
  },
  {
   "cell_type": "code",
   "execution_count": 4,
   "id": "77e3588b",
   "metadata": {},
   "outputs": [
    {
     "data": {
      "text/plain": [
       "(2607, 5)"
      ]
     },
     "execution_count": 4,
     "metadata": {},
     "output_type": "execute_result"
    }
   ],
   "source": [
    "df_sessions=pd.read_csv(\"data/sessions.csv\")\n",
    "df_ventas=pd.read_csv(\"data/ventas.csv\")\n",
    "df_sessions.shape"
   ]
  },
  {
   "cell_type": "code",
   "execution_count": 5,
   "id": "f0e96279",
   "metadata": {},
   "outputs": [
    {
     "data": {
      "text/plain": [
       "(2607, 2)"
      ]
     },
     "execution_count": 5,
     "metadata": {},
     "output_type": "execute_result"
    }
   ],
   "source": [
    "df_ventas.shape"
   ]
  },
  {
   "cell_type": "code",
   "execution_count": 6,
   "id": "a85496bc",
   "metadata": {},
   "outputs": [
    {
     "data": {
      "text/plain": [
       "(2607, 6)"
      ]
     },
     "execution_count": 6,
     "metadata": {},
     "output_type": "execute_result"
    }
   ],
   "source": [
    "df=pd.merge(df_sessions, df_ventas, on=[\"session_id\"])\n",
    "df.shape"
   ]
  },
  {
   "cell_type": "code",
   "execution_count": 51,
   "id": "aa55612f",
   "metadata": {},
   "outputs": [
    {
     "data": {
      "text/html": [
       "<div>\n",
       "<style scoped>\n",
       "    .dataframe tbody tr th:only-of-type {\n",
       "        vertical-align: middle;\n",
       "    }\n",
       "\n",
       "    .dataframe tbody tr th {\n",
       "        vertical-align: top;\n",
       "    }\n",
       "\n",
       "    .dataframe thead th {\n",
       "        text-align: right;\n",
       "    }\n",
       "</style>\n",
       "<table border=\"1\" class=\"dataframe\">\n",
       "  <thead>\n",
       "    <tr style=\"text-align: right;\">\n",
       "      <th></th>\n",
       "      <th>session_id</th>\n",
       "      <th>lead</th>\n",
       "      <th>sistema_operativo</th>\n",
       "      <th>variante</th>\n",
       "      <th>oferta_movil</th>\n",
       "      <th>compra</th>\n",
       "    </tr>\n",
       "  </thead>\n",
       "  <tbody>\n",
       "    <tr>\n",
       "      <th>0</th>\n",
       "      <td>95f469a0-dd58-48b8-a79f-74c7bb96fba0</td>\n",
       "      <td>False</td>\n",
       "      <td>Mac</td>\n",
       "      <td>A</td>\n",
       "      <td>iPhone 13 Pro</td>\n",
       "      <td>False</td>\n",
       "    </tr>\n",
       "    <tr>\n",
       "      <th>1</th>\n",
       "      <td>655acce0-469b-4e35-a580-22b92e9bd8a3</td>\n",
       "      <td>False</td>\n",
       "      <td>Android</td>\n",
       "      <td>A</td>\n",
       "      <td>iPhone 13 Pro</td>\n",
       "      <td>False</td>\n",
       "    </tr>\n",
       "    <tr>\n",
       "      <th>2</th>\n",
       "      <td>708fd8e2-78c8-4f83-bb12-764ec3b764f3</td>\n",
       "      <td>False</td>\n",
       "      <td>Android</td>\n",
       "      <td>A</td>\n",
       "      <td>iPhone 13 Pro</td>\n",
       "      <td>False</td>\n",
       "    </tr>\n",
       "  </tbody>\n",
       "</table>\n",
       "</div>"
      ],
      "text/plain": [
       "                             session_id   lead sistema_operativo variante  \\\n",
       "0  95f469a0-dd58-48b8-a79f-74c7bb96fba0  False               Mac        A   \n",
       "1  655acce0-469b-4e35-a580-22b92e9bd8a3  False           Android        A   \n",
       "2  708fd8e2-78c8-4f83-bb12-764ec3b764f3  False           Android        A   \n",
       "\n",
       "    oferta_movil  compra  \n",
       "0  iPhone 13 Pro   False  \n",
       "1  iPhone 13 Pro   False  \n",
       "2  iPhone 13 Pro   False  "
      ]
     },
     "execution_count": 51,
     "metadata": {},
     "output_type": "execute_result"
    }
   ],
   "source": [
    "df.head(3)"
   ]
  },
  {
   "cell_type": "code",
   "execution_count": 7,
   "id": "ac8a6137",
   "metadata": {},
   "outputs": [
    {
     "data": {
      "text/plain": [
       "session_id           0\n",
       "lead                 0\n",
       "sistema_operativo    0\n",
       "variante             0\n",
       "oferta_movil         0\n",
       "compra               0\n",
       "dtype: int64"
      ]
     },
     "execution_count": 7,
     "metadata": {},
     "output_type": "execute_result"
    }
   ],
   "source": [
    "df.notnull().count() #no hay valores nulos ni en "
   ]
  },
  {
   "cell_type": "markdown",
   "id": "64e3ec0b",
   "metadata": {},
   "source": [
    "### Variante con mayor conversión de sesion a Lead"
   ]
  },
  {
   "cell_type": "code",
   "execution_count": 8,
   "id": "6e0011d5",
   "metadata": {},
   "outputs": [],
   "source": [
    "#df[df.variante == \"A\"][\"lead\"].value_counts(normalize=True)\n",
    "#df[df.variante == \"B\"][\"lead\"].value_counts(normalize=True)"
   ]
  },
  {
   "cell_type": "code",
   "execution_count": 9,
   "id": "b459ef1a",
   "metadata": {},
   "outputs": [
    {
     "name": "stdout",
     "output_type": "stream",
     "text": [
      "True en A: 21.37 %\n",
      "False en A: 78.63 %\n"
     ]
    }
   ],
   "source": [
    "True_A=df[df[\"variante\"]==\"A\"][df[\"lead\"]==True].size\n",
    "False_A=df[df[\"variante\"]==\"A\"][df[\"lead\"]==False].size\n",
    "Total_A=df[df[\"variante\"]==\"A\"].size\n",
    "print(\"True en A:\", round((True_A/Total_A)*100,2),\"%\")\n",
    "print(\"False en A:\", round((False_A/Total_A)*100,2),\"%\")"
   ]
  },
  {
   "cell_type": "code",
   "execution_count": 10,
   "id": "1f65c358",
   "metadata": {},
   "outputs": [
    {
     "name": "stdout",
     "output_type": "stream",
     "text": [
      "True en B: 20.71 %\n",
      "False en B: 79.29 %\n"
     ]
    }
   ],
   "source": [
    "True_B=df[df[\"variante\"]==\"B\"][df[\"lead\"]==True].size\n",
    "False_B=df[df[\"variante\"]==\"B\"][df[\"lead\"]==False].size\n",
    "Total_B=df[df_sessions[\"variante\"]==\"B\"].size\n",
    "print(\"True en B:\", round((True_B/Total_B)*100,2),\"%\")\n",
    "print(\"False en B:\", round((False_B/Total_B)*100,2),\"%\")"
   ]
  },
  {
   "cell_type": "markdown",
   "id": "0fb46b69",
   "metadata": {},
   "source": [
    "**La que tiene mayor conversión es la variante A con un 21.37% frente a un 20.71% de la variante B**"
   ]
  },
  {
   "cell_type": "code",
   "execution_count": 11,
   "id": "0e2ff0ec",
   "metadata": {},
   "outputs": [
    {
     "data": {
      "image/png": "[encoded data removed]",
      "text/plain": [
       "<Figure size 432x288 with 2 Axes>"
      ]
     },
     "metadata": {},
     "output_type": "display_data"
    }
   ],
   "source": [
    "fig, (ax1, ax2) = plt.subplots(1, 2)\n",
    "fig.suptitle('% de conversión de sesion a lead')\n",
    "labels = 'No compra', 'Compra'\n",
    "explode = (0, 0.1) \n",
    "\n",
    "ax1.pie(df[df[\"variante\"]==\"A\"][\"lead\"].value_counts(), explode=explode, labels=labels, autopct='%1.1f%%',\n",
    "        shadow=True, startangle=90)\n",
    "ax1.axis('equal') \n",
    "ax1.set_title(\"Variante A\")\n",
    "\n",
    "\n",
    "ax2.pie(df[df[\"variante\"]==\"B\"][\"lead\"].value_counts(), explode=explode, labels=labels, autopct='%1.1f%%',\n",
    "        shadow=True, startangle=90)\n",
    "ax2.axis('equal') \n",
    "ax2.set_title(\"Variante B\")\n",
    "\n",
    "plt.show()"
   ]
  },
  {
   "cell_type": "markdown",
   "id": "0b66f0e7",
   "metadata": {},
   "source": [
    "### Variante con mayor conversión de lead a Venta"
   ]
  },
  {
   "cell_type": "code",
   "execution_count": 12,
   "id": "d62ec96d",
   "metadata": {},
   "outputs": [],
   "source": [
    "#df[(df.variante == \"A\") & (df.lead==True)][\"compra\"].value_counts()\n",
    "#df[(df.variante == \"B\") & (df.lead==True)][\"compra\"].value_counts()"
   ]
  },
  {
   "cell_type": "code",
   "execution_count": 13,
   "id": "fc294cdc",
   "metadata": {},
   "outputs": [
    {
     "name": "stdout",
     "output_type": "stream",
     "text": [
      "Conversión a compra con éxito en variante A 7.82 %\n"
     ]
    }
   ],
   "source": [
    "Totallead_A=df[(df.variante == \"A\") & (df.lead==True)][\"compra\"].size\n",
    "Compra_A=df[(df.variante == \"A\") & (df.lead==True)][\"compra\"].value_counts()[1]\n",
    "print(\"Conversión a compra con éxito en variante A\", round((Compra_A/Totallead_A)*100,2),\"%\")"
   ]
  },
  {
   "cell_type": "code",
   "execution_count": 14,
   "id": "33bdbf2e",
   "metadata": {},
   "outputs": [
    {
     "name": "stdout",
     "output_type": "stream",
     "text": [
      "Conversión a compra con éxito en variante A 8.63 %\n"
     ]
    }
   ],
   "source": [
    "Totallead_B=df[(df.variante == \"B\") & (df.lead==True)][\"compra\"].size\n",
    "Compra_B=df[(df.variante == \"B\") & (df.lead==True)][\"compra\"].value_counts()[1]\n",
    "print(\"Conversión a compra con éxito en variante A\", round((Compra_B/Totallead_B)*100,2),\"%\")"
   ]
  },
  {
   "cell_type": "markdown",
   "id": "19d68038",
   "metadata": {},
   "source": [
    "**La que tiene mayor conversión es la variante B con un 8.63% frente a un 7.82% de la variante A**"
   ]
  },
  {
   "cell_type": "code",
   "execution_count": 15,
   "id": "f4447c25",
   "metadata": {},
   "outputs": [
    {
     "data": {
      "image/png": "[encoded data removed]",
      "text/plain": [
       "<Figure size 432x288 with 2 Axes>"
      ]
     },
     "metadata": {},
     "output_type": "display_data"
    }
   ],
   "source": [
    "fig, (ax1, ax2) = plt.subplots(1, 2)\n",
    "fig.suptitle('% de conversiones de lead a venta')\n",
    "labels = 'No compra', 'Compra'\n",
    "explode = (0, 0.1) \n",
    "\n",
    "ax1.pie(df[(df.variante == \"A\") & (df.lead==True)][\"compra\"].value_counts(), explode=explode, labels=labels, autopct='%1.1f%%',\n",
    "        shadow=True, startangle=90)\n",
    "ax1.axis('equal') \n",
    "ax1.set_title(\"variante A\")\n",
    "\n",
    "\n",
    "ax2.pie(df[(df.variante == \"B\") & (df.lead==True)][\"compra\"].value_counts(), explode=explode, labels=labels, autopct='%1.1f%%',\n",
    "        shadow=True, startangle=90)\n",
    "ax2.axis('equal') \n",
    "ax2.set_title(\"variante B\")\n",
    "\n",
    "plt.show()"
   ]
  },
  {
   "cell_type": "code",
   "execution_count": 16,
   "id": "fe3581bf",
   "metadata": {},
   "outputs": [
    {
     "data": {
      "text/plain": [
       "False    1353\n",
       "True       23\n",
       "Name: compra, dtype: int64"
      ]
     },
     "execution_count": 16,
     "metadata": {},
     "output_type": "execute_result"
    }
   ],
   "source": [
    "df[(df.variante==\"A\")][\"compra\"].value_counts()"
   ]
  },
  {
   "cell_type": "code",
   "execution_count": 17,
   "id": "c0208670",
   "metadata": {},
   "outputs": [
    {
     "data": {
      "text/plain": [
       "False    1209\n",
       "True       22\n",
       "Name: compra, dtype: int64"
      ]
     },
     "execution_count": 17,
     "metadata": {},
     "output_type": "execute_result"
    }
   ],
   "source": [
    "df[(df.variante==\"B\")][\"compra\"].value_counts()"
   ]
  },
  {
   "cell_type": "code",
   "execution_count": 18,
   "id": "4562e0a0",
   "metadata": {},
   "outputs": [
    {
     "data": {
      "text/plain": [
       "False    0.982739\n",
       "True     0.017261\n",
       "Name: compra, dtype: float64"
      ]
     },
     "execution_count": 18,
     "metadata": {},
     "output_type": "execute_result"
    }
   ],
   "source": [
    "df[\"compra\"].value_counts(normalize=True)"
   ]
  },
  {
   "cell_type": "code",
   "execution_count": 19,
   "id": "c2eaed4c",
   "metadata": {},
   "outputs": [
    {
     "data": {
      "text/plain": [
       "iPhone 13 Pro      0.449909\n",
       "Xiaomi Redmi 9A    0.309654\n",
       "Galaxy A12         0.240437\n",
       "Name: oferta_movil, dtype: float64"
      ]
     },
     "execution_count": 19,
     "metadata": {},
     "output_type": "execute_result"
    }
   ],
   "source": [
    "df[(df.lead==True)][\"oferta_movil\"].value_counts(normalize=True)"
   ]
  },
  {
   "cell_type": "code",
   "execution_count": 20,
   "id": "ae5f3a76",
   "metadata": {},
   "outputs": [],
   "source": [
    "#df[(df.variante == \"A\") & (df.lead==True)][\"oferta_movil\"].value_counts(normalize=True)"
   ]
  },
  {
   "cell_type": "code",
   "execution_count": 21,
   "id": "171c5a20",
   "metadata": {},
   "outputs": [],
   "source": [
    "#df[(df.variante == \"B\") & (df.lead==True)][\"oferta_movil\"].value_counts(normalize=True)"
   ]
  },
  {
   "cell_type": "code",
   "execution_count": 22,
   "id": "16d07fe3",
   "metadata": {},
   "outputs": [
    {
     "data": {
      "text/plain": [
       "iPhone 13 Pro      18\n",
       "Xiaomi Redmi 9A    15\n",
       "Galaxy A12         12\n",
       "Name: oferta_movil, dtype: int64"
      ]
     },
     "execution_count": 22,
     "metadata": {},
     "output_type": "execute_result"
    }
   ],
   "source": [
    "df[(df.compra==True)][\"oferta_movil\"].value_counts()"
   ]
  },
  {
   "cell_type": "code",
   "execution_count": 23,
   "id": "4495d06c",
   "metadata": {},
   "outputs": [
    {
     "data": {
      "text/html": [
       "<div>\n",
       "<style scoped>\n",
       "    .dataframe tbody tr th:only-of-type {\n",
       "        vertical-align: middle;\n",
       "    }\n",
       "\n",
       "    .dataframe tbody tr th {\n",
       "        vertical-align: top;\n",
       "    }\n",
       "\n",
       "    .dataframe thead th {\n",
       "        text-align: right;\n",
       "    }\n",
       "</style>\n",
       "<table border=\"1\" class=\"dataframe\">\n",
       "  <thead>\n",
       "    <tr style=\"text-align: right;\">\n",
       "      <th></th>\n",
       "      <th>lead</th>\n",
       "      <th>compra</th>\n",
       "    </tr>\n",
       "  </thead>\n",
       "  <tbody>\n",
       "    <tr>\n",
       "      <th>lead</th>\n",
       "      <td>1.000000</td>\n",
       "      <td>0.256598</td>\n",
       "    </tr>\n",
       "    <tr>\n",
       "      <th>compra</th>\n",
       "      <td>0.256598</td>\n",
       "      <td>1.000000</td>\n",
       "    </tr>\n",
       "  </tbody>\n",
       "</table>\n",
       "</div>"
      ],
      "text/plain": [
       "            lead    compra\n",
       "lead    1.000000  0.256598\n",
       "compra  0.256598  1.000000"
      ]
     },
     "execution_count": 23,
     "metadata": {},
     "output_type": "execute_result"
    }
   ],
   "source": [
    "df.corr()"
   ]
  },
  {
   "cell_type": "code",
   "execution_count": 49,
   "id": "2887d063",
   "metadata": {},
   "outputs": [
    {
     "data": {
      "text/plain": [
       "Android    85.00\n",
       "iOS        13.16\n",
       "Windows     1.57\n",
       "Mac         0.19\n",
       "Linux       0.08\n",
       "Name: sistema_operativo, dtype: float64"
      ]
     },
     "execution_count": 49,
     "metadata": {},
     "output_type": "execute_result"
    }
   ],
   "source": [
    "round(df.sistema_operativo.value_counts(normalize=True)*100,2) #conexiones según terminal"
   ]
  },
  {
   "cell_type": "code",
   "execution_count": 28,
   "id": "70b95628",
   "metadata": {},
   "outputs": [
    {
     "data": {
      "text/plain": [
       "Android    37\n",
       "iOS         8\n",
       "Name: sistema_operativo, dtype: int64"
      ]
     },
     "execution_count": 28,
     "metadata": {},
     "output_type": "execute_result"
    }
   ],
   "source": [
    "df[(df.compra==True)][\"sistema_operativo\"].value_counts() #conexiones según terminal que terminan en venta"
   ]
  },
  {
   "cell_type": "code",
   "execution_count": 39,
   "id": "ea9fdc41",
   "metadata": {},
   "outputs": [
    {
     "data": {
      "text/plain": [
       "Xiaomi Redmi 9A    13\n",
       "iPhone 13 Pro      12\n",
       "Galaxy A12         12\n",
       "Name: oferta_movil, dtype: int64"
      ]
     },
     "execution_count": 39,
     "metadata": {},
     "output_type": "execute_result"
    }
   ],
   "source": [
    "df_compra=df[(df.compra == True)]\n",
    "df_compra[(df_compra.sistema_operativo==\"Android\")][\"oferta_movil\"].value_counts()"
   ]
  },
  {
   "cell_type": "code",
   "execution_count": 40,
   "id": "8799cf29",
   "metadata": {},
   "outputs": [
    {
     "data": {
      "text/plain": [
       "iPhone 13 Pro      6\n",
       "Xiaomi Redmi 9A    2\n",
       "Name: oferta_movil, dtype: int64"
      ]
     },
     "execution_count": 40,
     "metadata": {},
     "output_type": "execute_result"
    }
   ],
   "source": [
    "df_compra[(df_compra.sistema_operativo==\"iOS\")][\"oferta_movil\"].value_counts()"
   ]
  },
  {
   "cell_type": "markdown",
   "id": "ab69ffbe",
   "metadata": {},
   "source": [
    "Ambas landing page estan teniendo un rendimiento similar. Si analizamos globalmente 98% de las session id no fructifican en una venta, en cuanto a que variante funciona mejor para solictar información, parece que funciona mejor la variante A, pero en cuanto a número de ventas no hay diferencia.\n",
    "\n",
    "El % de sesiones que pasan a lead tienen como punto en común la oferta de movil \"iPhone 13 Pro\" en ambas variantes de landing page, observandose el mismo comportamiento para las ventas finales aunque con menos diferencia entre ofertas.\n",
    "\n",
    "La mayoría de las visitas son por móvil, siendo los que vienen de terminales Android los más númerosos. Una vez hablamos de ventas sólo se han vendido terminales a partir de consultas que vienen de moviles, siendo las que se dan en mayor proporción las que vienen de sistemas Android.\n",
    "\n",
    "Recomendaría evaluar las cifras de venta y %lead con lo que se considere óptimo y revisitar las landing page para evaluar si existen diferencias reales entre ambas. Ya que puede que el problema no resida en el diseño y rendimiento de las mismas, si no más bien en lo que se refiere a la oferta."
   ]
  }
 ],
 "metadata": {
  "kernelspec": {
   "display_name": "Python 3",
   "language": "python",
   "name": "python3"
  },
  "language_info": {
   "codemirror_mode": {
    "name": "ipython",
    "version": 3
   },
   "file_extension": ".py",
   "mimetype": "text/x-python",
   "name": "python",
   "nbconvert_exporter": "python",
   "pygments_lexer": "ipython3",
   "version": "3.8.8"
  }
 },
 "nbformat": 4,
 "nbformat_minor": 5
}
