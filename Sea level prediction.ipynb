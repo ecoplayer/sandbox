{
 "cells": [
  {
   "cell_type": "markdown",
   "id": "2201c416",
   "metadata": {},
   "source": [
    "Analyze a dataset of the global average sea level change since 1880, use the data to predict the sea level change through year 2050.\n",
    "- Create a scatter plot using the \"Year\" column as the x-axis and the \"CSIRO Adjusted Sea Level\" column as the y-axix.\n",
    "- Use the linregress function from scipy.stats to get the slope and y-intercept of the line of best fit. Plot the line of best fit over the top of the scatter plot. Make the line go through the year 2050 to predict the sea level rise in 2050.\n",
    "- Plot a new line of best fit just using the data from year 2000 through the most recent year in the dataset. Make the line also go through the year 2050 to predict the sea level rise in 2050 if the rate of rise continues as it has since the year 2000.\n",
    "- The x label should be \"Year\", the y label should be \"Sea Level (inches)\", and the title should be \"Rise in Sea Level\"."
   ]
  },
  {
   "cell_type": "code",
   "execution_count": 1,
   "id": "c614bfd7",
   "metadata": {},
   "outputs": [],
   "source": [
    "import pandas as pd\n",
    "import matplotlib.pyplot as plt\n",
    "from scipy.stats import linregress"
   ]
  },
  {
   "cell_type": "code",
   "execution_count": 3,
   "id": "b367dc23",
   "metadata": {},
   "outputs": [
    {
     "data": {
      "text/html": [
       "<div>\n",
       "<style scoped>\n",
       "    .dataframe tbody tr th:only-of-type {\n",
       "        vertical-align: middle;\n",
       "    }\n",
       "\n",
       "    .dataframe tbody tr th {\n",
       "        vertical-align: top;\n",
       "    }\n",
       "\n",
       "    .dataframe thead th {\n",
       "        text-align: right;\n",
       "    }\n",
       "</style>\n",
       "<table border=\"1\" class=\"dataframe\">\n",
       "  <thead>\n",
       "    <tr style=\"text-align: right;\">\n",
       "      <th></th>\n",
       "      <th>Year</th>\n",
       "      <th>CSIRO Adjusted Sea Level</th>\n",
       "      <th>Lower Error Bound</th>\n",
       "      <th>Upper Error Bound</th>\n",
       "      <th>NOAA Adjusted Sea Level</th>\n",
       "    </tr>\n",
       "  </thead>\n",
       "  <tbody>\n",
       "    <tr>\n",
       "      <th>0</th>\n",
       "      <td>1880</td>\n",
       "      <td>0.000000</td>\n",
       "      <td>-0.952756</td>\n",
       "      <td>0.952756</td>\n",
       "      <td>NaN</td>\n",
       "    </tr>\n",
       "    <tr>\n",
       "      <th>1</th>\n",
       "      <td>1881</td>\n",
       "      <td>0.220472</td>\n",
       "      <td>-0.732283</td>\n",
       "      <td>1.173228</td>\n",
       "      <td>NaN</td>\n",
       "    </tr>\n",
       "    <tr>\n",
       "      <th>2</th>\n",
       "      <td>1882</td>\n",
       "      <td>-0.440945</td>\n",
       "      <td>-1.346457</td>\n",
       "      <td>0.464567</td>\n",
       "      <td>NaN</td>\n",
       "    </tr>\n",
       "  </tbody>\n",
       "</table>\n",
       "</div>"
      ],
      "text/plain": [
       "   Year  CSIRO Adjusted Sea Level  Lower Error Bound  Upper Error Bound  \\\n",
       "0  1880                  0.000000          -0.952756           0.952756   \n",
       "1  1881                  0.220472          -0.732283           1.173228   \n",
       "2  1882                 -0.440945          -1.346457           0.464567   \n",
       "\n",
       "   NOAA Adjusted Sea Level  \n",
       "0                      NaN  \n",
       "1                      NaN  \n",
       "2                      NaN  "
      ]
     },
     "execution_count": 3,
     "metadata": {},
     "output_type": "execute_result"
    }
   ],
   "source": [
    "path=\"data/epa-sea-level.csv\"\n",
    "df=pd.read_csv(path)\n",
    "df.head(3)"
   ]
  },
  {
   "cell_type": "code",
   "execution_count": 5,
   "id": "b6afaf82",
   "metadata": {},
   "outputs": [],
   "source": [
    "#Create x,y\n",
    "x=df[\"Year\"]\n",
    "y=df[\"CSIRO Adjusted Sea Level\"]"
   ]
  },
  {
   "cell_type": "code",
   "execution_count": 16,
   "id": "ae94c9aa",
   "metadata": {},
   "outputs": [
    {
     "data": {
      "text/plain": [
       "Text(0.5, 1.0, 'Rise in Sea level')"
      ]
     },
     "execution_count": 16,
     "metadata": {},
     "output_type": "execute_result"
    },
    {
     "data": {
      "image/png": "[encoded data removed]",
      "text/plain": [
       "<Figure size 432x288 with 1 Axes>"
      ]
     },
     "metadata": {
      "needs_background": "light"
     },
     "output_type": "display_data"
    }
   ],
   "source": [
    "#Create scatter plot\n",
    "fig,ax=plt.subplots()\n",
    "plt.scatter(x,y)\n",
    "\n",
    "#Create first line of best fit\n",
    "res=linregress(x,y)\n",
    "x_pred=pd.Series([year for year in range(1880,2051)])\n",
    "y_pred=res.slope*x_pred + res.intercept # y= ax+b\n",
    "plt.plot(x_pred,y_pred,\"r\")\n",
    "\n",
    "#Create second line of best fit\n",
    "new_df=df.loc[df[\"Year\"]>=2000]\n",
    "new_x=new_df[\"Year\"]\n",
    "new_y=new_df[\"CSIRO Adjusted Sea Level\"]\n",
    "\n",
    "res_2=linregress(new_x,new_y)\n",
    "x_pred2=pd.Series([year for year in range(2000,2051)])\n",
    "y_pred2=res_2.slope*x_pred2 + res_2.intercept # y= ax+b\n",
    "plt.plot(x_pred2,y_pred2,\"--g\")\n",
    "\n",
    "\n",
    "#Add labels and title\n",
    "ax.set_xlabel(\"Year\")\n",
    "ax.set_ylabel(\"Sea level (inches)\")\n",
    "ax.set_title(\"Rise in Sea level\")\n",
    "\n",
    "#plt.savefig(\"sea_level_plot.png\")"
   ]
  }
 ],
 "metadata": {
  "kernelspec": {
   "display_name": "Python 3",
   "language": "python",
   "name": "python3"
  },
  "language_info": {
   "codemirror_mode": {
    "name": "ipython",
    "version": 3
   },
   "file_extension": ".py",
   "mimetype": "text/x-python",
   "name": "python",
   "nbconvert_exporter": "python",
   "pygments_lexer": "ipython3",
   "version": "3.8.8"
  }
 },
 "nbformat": 4,
 "nbformat_minor": 5
}
