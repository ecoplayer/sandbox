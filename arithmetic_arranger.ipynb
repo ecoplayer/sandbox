{
 "cells": [
  {
   "cell_type": "code",
   "execution_count": 2,
   "id": "96f7ee0b",
   "metadata": {},
   "outputs": [],
   "source": [
    "import re"
   ]
  },
  {
   "cell_type": "code",
   "execution_count": 112,
   "id": "712bb2a5",
   "metadata": {},
   "outputs": [],
   "source": [
    "problems= [\"32 + 698\", \"3801 - 2\", \"45 + 43\", \"123 + 49\", \"123 + 49\"]"
   ]
  },
  {
   "cell_type": "code",
   "execution_count": 171,
   "id": "2eb6bef7",
   "metadata": {},
   "outputs": [],
   "source": [
    "def arithmetic_arranger(problems, solve = False):\n",
    "    #check operations\n",
    "    if len(problems)>5:\n",
    "        return \"Error: Too many problems.\"\n",
    "    else:\n",
    "        for problem in problems:\n",
    "            fst_row = \"\"\n",
    "            snd_row = \"\"\n",
    "            line_sum = \"\"\n",
    "            line_solution = \"\"\n",
    "            \n",
    "            a=problem.split()\n",
    "            stnum=a[0]\n",
    "            op=a[1]\n",
    "            ndnum=a[2]\n",
    "                        \n",
    "            #check numbers are digits\n",
    "            if not stnum.isnumeric() or not ndnum.isnumeric():\n",
    "                return \"Error: Numbers must only contain digits.\"\n",
    "            #check len numbers\n",
    "            if len(stnum) > 4 or len(ndnum)>4:\n",
    "                return \"Error: Numbers cannot be more than four digits.\"\n",
    "            #check type operation\n",
    "            if op == \"+\":\n",
    "                solution=int(stnum) + int(ndnum)\n",
    "            elif op == \"-\":\n",
    "                solution=int(stnum) - int(ndnum)\n",
    "            else:\n",
    "                return \"Error: Operator must be '+' or '-'.\"\n",
    "                 \n",
    "            #format output\n",
    "            ancho = (max(len(ndnum),len(stnum))+ 2)\n",
    "            top = stnum.rjust(width)\n",
    "            bottom = op + ndnum.rjust(width - 1)\n",
    "            line = \"\"\n",
    "            res =str(sum).rjust(width)\n",
    "            for s in range(ancho):\n",
    "                line+=\"-\"\n",
    "                \n",
    "            # if there is another operation, left 4space\n",
    "            if len(problems) >= 1:\n",
    "                fst_row += top + \"    \"\n",
    "                snd_row += bottom + \"    \"\n",
    "                line_sum += line + \"    \"\n",
    "                line_solution += res + \"    \"\n",
    "            else:\n",
    "                fst_row += top\n",
    "                snd_row +=bottom\n",
    "                line_sum += line\n",
    "                line_solution = res\n",
    "            #Resuelva ecuaciones\n",
    "            if solve:\n",
    "                arranged_problems = fst_row + \"\\n\" +snd_row + '\\n' , line_sum + ,line_solution\n",
    "            else:\n",
    "                arranged_problems = fst_row + \"\\n\" + snd_row + '\\n' + line_sum + '\\n' \n",
    "                \n",
    "                \n",
    "  \n",
    "    return arranged_problems"
   ]
  },
  {
   "cell_type": "code",
   "execution_count": 173,
   "id": "10b4b2df",
   "metadata": {},
   "outputs": [],
   "source": [
    "import re\n",
    "\n",
    "def arithmetic_arranger(problems, flag=False):\n",
    "    length = len(problems)\n",
    "    firstRow = ''\n",
    "    secondRow = ''\n",
    "    thirdRow = ''\n",
    "    lastRow = ''\n",
    "\n",
    "    if len(problems) > 5:\n",
    "        return 'Error: Too many problems.'\n",
    "    else:\n",
    "        for exp in problems:\n",
    "            [operand1, operation, operand2] = exp.split(' ')\n",
    "            if operation != \"+\" and operation != \"-\":\n",
    "                return \"Error: Operator must be '+' or '-'.\"\n",
    "            elif not stnum.isnumeric() or not ndnum.isnumeric():\n",
    "                return \"Error: Numbers must only contain digits.\"\n",
    "            elif len(operand1) > 4 or len(operand2) > 4:\n",
    "                return 'Error: Numbers cannot be more than four digits.'\n",
    "            \n",
    "            else:\n",
    "                maxLength = len(operand1) if len(operand1) > len(operand2) else len(operand2)\n",
    "                firstRow = firstRow + \"  \" + (operand1 if len(operand1) >= len(operand2) else operand1.rjust(len(operand2))) + ' '*(4)\n",
    "                secondRow = secondRow + operation + \" \" + (\n",
    "                    operand2 if len(operand2) >= len(operand1) else\n",
    "                    operand2.rjust(len(operand1))) + ' '*(4)\n",
    "                thirdRow = thirdRow + '-' * (maxLength + 2) + ' '*(4)\n",
    "                result = (\n",
    "                    int(operand1) + int(operand2)) if operation == '+' else (\n",
    "                        int(operand1) - int(operand2))\n",
    "                lastRow = lastRow + (str(result)).rjust(maxLength+2) + ' '*(4)\n",
    "\n",
    "        finalResult = firstRow.rstrip() + '\\n' + secondRow.rstrip() + '\\n' + thirdRow.rstrip()\n",
    "        arranged_problems = finalResult + '\\n' + lastRow.rstrip() if flag else finalResult\n",
    "        return arranged_problems"
   ]
  },
  {
   "cell_type": "code",
   "execution_count": 174,
   "id": "a8238142",
   "metadata": {},
   "outputs": [
    {
     "data": {
      "text/plain": [
       "'   32      3801      45      123      123\\n+ 698    -    2    + 43    +  49    +  49\\n-----    ------    ----    -----    -----'"
      ]
     },
     "execution_count": 174,
     "metadata": {},
     "output_type": "execute_result"
    }
   ],
   "source": [
    "arithmetic_arranger(problems)"
   ]
  },
  {
   "cell_type": "code",
   "execution_count": null,
   "id": "d248f921",
   "metadata": {},
   "outputs": [],
   "source": []
  }
 ],
 "metadata": {
  "kernelspec": {
   "display_name": "Python 3",
   "language": "python",
   "name": "python3"
  },
  "language_info": {
   "codemirror_mode": {
    "name": "ipython",
    "version": 3
   },
   "file_extension": ".py",
   "mimetype": "text/x-python",
   "name": "python",
   "nbconvert_exporter": "python",
   "pygments_lexer": "ipython3",
   "version": "3.8.8"
  }
 },
 "nbformat": 4,
 "nbformat_minor": 5
}
