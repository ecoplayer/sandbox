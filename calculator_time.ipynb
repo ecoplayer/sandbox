{
 "cells": [
  {
   "cell_type": "code",
   "execution_count": 83,
   "id": "3161a2aa",
   "metadata": {},
   "outputs": [],
   "source": [
    "start =\"11:30 PM Monday\" #6 pm\n",
    "duration =\"0:30\""
   ]
  },
  {
   "cell_type": "code",
   "execution_count": 84,
   "id": "ba6bba2e",
   "metadata": {},
   "outputs": [],
   "source": [
    "start.partition(\":\")\n",
    "s_hour=start.partition(\":\")[0]\n",
    "s_resto=start.partition(\":\")[2]\n",
    "s_min=s_resto.partition(\" \")[0]\n",
    "uso=s_resto.partition(\" \")[2]"
   ]
  },
  {
   "cell_type": "code",
   "execution_count": 85,
   "id": "8e097213",
   "metadata": {},
   "outputs": [],
   "source": [
    "start.partition(\":\")\n",
    "d_hour=duration.partition(\":\")[0]\n",
    "d_min=duration.partition(\":\")[2]"
   ]
  },
  {
   "cell_type": "code",
   "execution_count": 86,
   "id": "af44b0f4",
   "metadata": {},
   "outputs": [],
   "source": [
    "total_h=int(s_hour)+int(d_hour)\n",
    "total_min=int(s_min)+int(d_min)\n",
    "\n",
    "if total_min >=60:\n",
    "    total_min=total_min-60\n",
    "    total_h+=1\n",
    "    \n",
    "if (total_h >= 12 and uso == \"AM\"):\n",
    "    total_h=total_h - 11\n",
    "    uso =\"PM\"\n",
    "else:\n",
    "    total_h=total_h - 12\n",
    "    uso =\"AM\"\n",
    "\n",
    "#if (total_h >= 12 and uso ==\"PM\"):\n",
    " #   total_h=total_h - 12\n",
    "#    uso =\"AM\"\n",
    "\n",
    "if total_min oin range (0,10):\n",
    "    total_min=\"0\"+str(total_min)\n",
    "    total_h=str(total_h)\n",
    "if total_h in range (0,10):\n",
    "    total_h=\"0\" + str(total_h)\n",
    "    total_min=str(total_min)\n",
    "else:\n",
    "    total_min=str(total_min)\n",
    "    total_h=str(total_h)"
   ]
  },
  {
   "cell_type": "code",
   "execution_count": 87,
   "id": "42e8681e",
   "metadata": {},
   "outputs": [
    {
     "name": "stdout",
     "output_type": "stream",
     "text": [
      "0:00 AM\n"
     ]
    }
   ],
   "source": [
    "print(total_h+\":\"+total_min+\" \"+ uso)"
   ]
  },
  {
   "cell_type": "code",
   "execution_count": 88,
   "id": "ac34cfb4",
   "metadata": {},
   "outputs": [
    {
     "data": {
      "text/plain": [
       "'AM'"
      ]
     },
     "execution_count": 88,
     "metadata": {},
     "output_type": "execute_result"
    }
   ],
   "source": [
    "uso"
   ]
  }
 ],
 "metadata": {
  "kernelspec": {
   "display_name": "Python 3",
   "language": "python",
   "name": "python3"
  },
  "language_info": {
   "codemirror_mode": {
    "name": "ipython",
    "version": 3
   },
   "file_extension": ".py",
   "mimetype": "text/x-python",
   "name": "python",
   "nbconvert_exporter": "python",
   "pygments_lexer": "ipython3",
   "version": "3.8.8"
  }
 },
 "nbformat": 4,
 "nbformat_minor": 5
}
