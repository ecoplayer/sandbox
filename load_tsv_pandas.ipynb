{
 "cells": [
  {
   "cell_type": "markdown",
   "id": "cde57acb",
   "metadata": {},
   "source": [
    "### TSV with The Simpsons episodes\n",
    "Read and store in a `simpsons` DataFrame the data within the `simpsons-episodes.tsv` TSV (_Tabular Separated Values_) file. This file contains information about all The Simpsons episodes.\n",
    "\n",
    "Take a look at the file before you read it into a DataFrame and see what will be necessary to parse it correctly.\n",
    "\n",
    "- Use correct separator as data is tabular separated.\n",
    "- Use the following `col_names` list as column names.\n",
    "- Load just `Title`, `Air date`, `Production code` and `IMDB rating`.\n",
    "- Don't load the first empty columns.\n",
    "- Set `Production code` as index.\n",
    "- Null values are encoded as `no_val` values, be careful with that when loading the data.\n",
    "- Parse the `Air date` columns as Date."
   ]
  },
  {
   "cell_type": "code",
   "execution_count": null,
   "id": "ab126c6f",
   "metadata": {},
   "outputs": [],
   "source": []
  }
 ],
 "metadata": {
  "kernelspec": {
   "display_name": "Python 3",
   "language": "python",
   "name": "python3"
  },
  "language_info": {
   "codemirror_mode": {
    "name": "ipython",
    "version": 3
   },
   "file_extension": ".py",
   "mimetype": "text/x-python",
   "name": "python",
   "nbconvert_exporter": "python",
   "pygments_lexer": "ipython3",
   "version": "3.8.8"
  }
 },
 "nbformat": 4,
 "nbformat_minor": 5
}
